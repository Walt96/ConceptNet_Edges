{
  "nbformat": 4,
  "nbformat_minor": 0,
  "metadata": {
    "colab": {
      "name": "ConceptNet_edges.ipynb",
      "provenance": []
    },
    "kernelspec": {
      "name": "python3",
      "display_name": "Python 3"
    },
    "language_info": {
      "name": "python"
    }
  },
  "cells": [
    {
      "cell_type": "markdown",
      "metadata": {
        "id": "QeqZG2C9FIu7"
      },
      "source": [
        "#**Concept Edges**"
      ]
    },
    {
      "cell_type": "code",
      "metadata": {
        "id": "8_IOy4a-HgXx"
      },
      "source": [
        "import requests\n",
        "import re\n",
        "url_concept_net = 'http://api.conceptnet.io' "
      ],
      "execution_count": 11,
      "outputs": []
    },
    {
      "cell_type": "code",
      "metadata": {
        "id": "ouRY83lDJY-X"
      },
      "source": [
        "def clear_name(name):\n",
        "  if \"_\" in name:\n",
        "    name = name.replace(\"_\", \" \")\n",
        "  name = name.lower()\n",
        "\n",
        "  if bool(re.search(\"the \", name)):\n",
        "    name = re.sub(r\"the \", \"\", name)\n",
        "\n",
        "  if bool(re.search(\"a \", name)):\n",
        "    name = re.sub(r\"a \", \"\", name)\n",
        "\n",
        "  if bool(re.search(\"an \", name)):\n",
        "    name = re.sub(r\"an \", \"\", name)\n",
        "\n",
        "  if bool(re.search(\"my \", name)):\n",
        "    name = re.sub(r\"my \", \"\", name)\n",
        "\n",
        "  if bool(re.search(\"is \", name)):\n",
        "    name = re.sub(r\"is \", \"\", name)\n",
        "\n",
        "  if bool(re.search(\"is$\", name)):\n",
        "    name = re.sub(r\"is$\", \"\", name)\n",
        "   \n",
        "  if bool(re.search(\"your \", name)):\n",
        "    name = re.sub(r\"your \", \"\", name)\n",
        "  \n",
        "  if bool(re.search(\"any \", name)):\n",
        "    name = re.sub(r\"any \", \"\", name)\n",
        "\n",
        "  if bool(re.search(\"every \", name)):\n",
        "    name = re.sub(r\"every \", \"\", name)\n",
        "\n",
        "  if bool(re.search(\"own \", name)):\n",
        "    name = re.sub(r\"own \", \"\", name)\n",
        "\n",
        "  if bool(re.search(\"to \", name)):\n",
        "    name = re.sub(r\"to \", \"\", name)\n",
        "\n",
        "  if bool(re.search(\"something \", name)):\n",
        "    name = re.sub(r\"something \", \"\", name)\n",
        "  \n",
        "  name = name.strip()\n",
        "  return name"
      ],
      "execution_count": 12,
      "outputs": []
    },
    {
      "cell_type": "code",
      "metadata": {
        "id": "sarLuLVoN98d"
      },
      "source": [
        "def make_recursive_call(results, query):\n",
        "   response = requests.get(query)\n",
        "   result = response.json()\n",
        "   results.append(result)\n",
        "   if \"view\" in result.keys():\n",
        "    view = result[\"view\"]\n",
        "    #print(view.keys())\n",
        "    if \"nextPage\" in view.keys():\n",
        "      next_page = view[\"nextPage\"]\n",
        "      new_query = url_concept_net + next_page\n",
        "      make_recursive_call(results, new_query)\n"
      ],
      "execution_count": 13,
      "outputs": []
    },
    {
      "cell_type": "code",
      "metadata": {
        "id": "9fzqQRtpFHaR"
      },
      "source": [
        "def make_call(label, node):\n",
        "  results = []\n",
        "  request_string = url_concept_net + \"/query?\"+node+\"=/c/en/\"+label+\"&limit=500\"\n",
        "  response = requests.get(request_string)\n",
        "  result = response.json()\n",
        "  #print(result)\n",
        "  results.append(result)\n",
        "  if \"view\" in result.keys():\n",
        "    view = result[\"view\"]\n",
        "    #print(view.keys())\n",
        "    if \"nextPage\" in view.keys():\n",
        "      next_page = view[\"nextPage\"]\n",
        "      new_query = url_concept_net + next_page\n",
        "      make_recursive_call(results, new_query)\n",
        "  return results"
      ],
      "execution_count": 14,
      "outputs": []
    },
    {
      "cell_type": "code",
      "metadata": {
        "id": "NJcytryXF_pl"
      },
      "source": [
        "def get_nodes(conceptNet_results, starting_word):\n",
        "  nodes = []\n",
        "  count = 1\n",
        "  for result in conceptNet_results:\n",
        "    edges = result[\"edges\"]\n",
        "    for edge in edges:\n",
        "      rel_type = edge[\"rel\"][\"label\"]\n",
        "      end_node = clear_name(edge[\"end\"][\"label\"])\n",
        "      start_node = clear_name(edge[\"start\"][\"label\"])\n",
        "      if starting_word == start_node:\n",
        "        label_name = clear_name(end_node)\n",
        "        pair = {\"label\":label_name,\n",
        "                \"rel_type\":rel_type}\n",
        "        nodes.append(pair)\n",
        "\n",
        "      elif starting_word == end_node:\n",
        "        label_name = clear_name(start_node)\n",
        "        pair = {\"label\":label_name,\n",
        "              \"rel_type\":rel_type}\n",
        "        nodes.append(pair)\n",
        "    count = count + 1\n",
        "  return nodes"
      ],
      "execution_count": 15,
      "outputs": []
    },
    {
      "cell_type": "code",
      "metadata": {
        "id": "NzRVfwLrgHlf"
      },
      "source": [
        "def update_results_map(results_map, word_one, word_two, edges_count_map):\n",
        "  words = []\n",
        "  words.append(word_one)\n",
        "  words.append(word_two)\n",
        "  words = sorted(words)\n",
        "  key = words[0] + \"_\" + words[1]\n",
        "  if not key in results_map.keys():\n",
        "    results_map[key] = {}\n",
        "\n",
        "  for rel_type in edges_count_map.keys():\n",
        "    current_count = edges_count_map[rel_type]\n",
        "    if rel_type in results_map[key]:\n",
        "      old_count = results_map[key][rel_type]\n",
        "      current_count = current_count + old_count\n",
        "    results_map[key][rel_type] = current_count\n",
        "\n"
      ],
      "execution_count": 16,
      "outputs": []
    },
    {
      "cell_type": "code",
      "metadata": {
        "id": "rnchFRlLlrKr"
      },
      "source": [
        "def compute_totals(results_map):\n",
        "  for key, locations in results_map.items():\n",
        "    total = 0\n",
        "    for location in locations:\n",
        "      current_count = results_map[key][location]\n",
        "      total = total + current_count\n",
        "    results_map[key][\"total\"] = total\n"
      ],
      "execution_count": 17,
      "outputs": []
    },
    {
      "cell_type": "code",
      "metadata": {
        "id": "6wjI_HnHmMHl"
      },
      "source": [
        "def print_map(results_map):\n",
        "  for key, relations in results_map.items():\n",
        "    tokens = key.split(\"_\")\n",
        "    word_one = tokens[0].strip()\n",
        "    word_two = tokens[1].strip()\n",
        "    print(word_one, \"-\", word_two)\n",
        "    for relation in relations:\n",
        "      if relation == \"total\":\n",
        "        continue\n",
        "      count = results_map[key][relation]\n",
        "      print(\" -\", relation, \"->\", count)\n",
        "    total_count = results_map[key][\"total\"]\n",
        "    print(\" => Total:\", total_count)\n",
        "    print()"
      ],
      "execution_count": 18,
      "outputs": []
    },
    {
      "cell_type": "code",
      "metadata": {
        "colab": {
          "base_uri": "https://localhost:8080/"
        },
        "id": "Uorwin8FGWWB",
        "outputId": "5ccb4115-6adb-409f-d748-ff36fce8ac52"
      },
      "source": [
        "words = [\"book\", \"library\", \"person\"]\n",
        "results_map = {}\n",
        "#relations = [\"LocatedNear\", \"AtLocation\"]\n",
        "for i in range(len(words)):\n",
        "  edges_count_map = {}\n",
        "  word_one = words[i]\n",
        "  conceptNet_results = make_call(word_one, \"start\")\n",
        "  nodes = get_nodes(conceptNet_results, word_one)\n",
        "  #print(\"For\", word_one, \"found\", len(nodes))\n",
        "  for j in range(len(words)):\n",
        "    word_two = words[j]\n",
        "    if word_one == word_two:\n",
        "      continue\n",
        "    for node in nodes:\n",
        "      node_name = node[\"label\"]\n",
        "      node_rel = node[\"rel_type\"]\n",
        "      if node_name == word_two:\n",
        "        if not node_rel in edges_count_map.keys():\n",
        "          edges_count_map[node_rel] = 0\n",
        "        old_count = edges_count_map[node_rel] \n",
        "        new_count = old_count + 1\n",
        "        edges_count_map[node_rel] = new_count\n",
        "\n",
        "    update_results_map(results_map, word_one, word_two, edges_count_map)\n",
        "\n",
        "compute_totals(results_map)\n",
        "print_map(results_map)"
      ],
      "execution_count": 19,
      "outputs": [
        {
          "output_type": "stream",
          "text": [
            "book - library\n",
            " - PartOf -> 1\n",
            " - RelatedTo -> 2\n",
            " - AtLocation -> 1\n",
            " - LocatedNear -> 1\n",
            " - Antonym -> 1\n",
            " => Total: 6\n",
            "\n",
            "book - person\n",
            " - PartOf -> 1\n",
            " - RelatedTo -> 1\n",
            " - AtLocation -> 1\n",
            " - LocatedNear -> 1\n",
            " => Total: 4\n",
            "\n",
            "library - person\n",
            " - RelatedTo -> 1\n",
            " - Antonym -> 1\n",
            " => Total: 2\n",
            "\n"
          ],
          "name": "stdout"
        }
      ]
    }
  ]
}